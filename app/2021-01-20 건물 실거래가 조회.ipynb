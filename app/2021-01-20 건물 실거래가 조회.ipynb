{
 "cells": [
  {
   "cell_type": "code",
   "execution_count": 1,
   "id": "653509db",
   "metadata": {},
   "outputs": [],
   "source": [
    "import pandas as pd\n",
    "import os\n",
    "import datetime\n",
    "from urllib.parse import urlencode, quote_plus\n",
    "import requests\n",
    "import xmltodict\n",
    "import json\n",
    "\n",
    "os.environ[\"DJANGO_ALLOW_ASYNC_UNSAFE\"] = \"true\"\n",
    "SERVICE_KEY = \"tBPuYEf3cadKmxZxuRXBoCZuj2RT2O4riAhrCDcjRn4Vxz98zmNi%2BAn0aB2QLehOtdCzhbN4nmFfy6XEAx2kBQ%3D%3D\""
   ]
  },
  {
   "cell_type": "code",
   "execution_count": 12,
   "id": "fb8e57c6",
   "metadata": {},
   "outputs": [],
   "source": [
    "# 한달 \n",
    "now = datetime.datetime.now()\n",
    "year = now.year\n",
    "month = now.month\n",
    "start_date_to_end = pd.date_range(start='1/1/2000', end=f'1/{month}/{year}', freq='MS')    \n",
    "monthly_date_range = [ date_.strftime('%Y%m') for date_ in start_date_to_end]\n",
    "\n",
    "\n",
    "# 하루\n",
    "start_date_to_end = pd.date_range(start='1/1/2020', end=f'1/{month}/{year}', freq='D')    \n",
    "daily_date_range = [ date_.strftime('%Y%m%d') for date_ in start_date_to_end]"
   ]
  },
  {
   "cell_type": "code",
   "execution_count": 2,
   "id": "1e948087",
   "metadata": {},
   "outputs": [
    {
     "name": "stdout",
     "output_type": "stream",
     "text": [
      "경기도 광명시 철산동\n"
     ]
    }
   ],
   "source": [
    "# 주소 입력창\n",
    "\n",
    "address = input() "
   ]
  },
  {
   "cell_type": "code",
   "execution_count": 3,
   "id": "9af3dc4b",
   "metadata": {},
   "outputs": [
    {
     "name": "stdout",
     "output_type": "stream",
     "text": [
      "10200\n"
     ]
    }
   ],
   "source": [
    "address_obj_list = AddressLegalCode.objects.filter(address__contains=address)\n",
    "\n",
    "address_legal_code_obj_exists = address_obj_list.exists()\n",
    "if address_legal_code_obj_exists:\n",
    "    address_obj = address_obj_list.first()\n",
    "    # 시군구코드\n",
    "    city_code = address_obj.city_code\n",
    "    # 법정동 코드\n",
    "    legal_code = address_obj.legal_code\n",
    "print(legal_code)"
   ]
  },
  {
   "cell_type": "code",
   "execution_count": null,
   "id": "13fe05e2",
   "metadata": {},
   "outputs": [],
   "source": []
  },
  {
   "cell_type": "code",
   "execution_count": null,
   "id": "c5df8311",
   "metadata": {
    "scrolled": false
   },
   "outputs": [],
   "source": []
  },
  {
   "cell_type": "markdown",
   "id": "047c303e",
   "metadata": {},
   "source": [
    "# 국토교통부_아파트매매 실거래자료\n",
    "\n",
    "https://www.data.go.kr/tcs/dss/selectApiDataDetailView.do?publicDataPk=15058747"
   ]
  },
  {
   "cell_type": "code",
   "execution_count": 6,
   "id": "e916a5aa",
   "metadata": {},
   "outputs": [
    {
     "data": {
      "text/plain": [
       "'<?xml version=\"1.0\" encoding=\"UTF-8\" standalone=\"yes\"?><response><header><resultCode>99</resultCode><resultMsg>SERVICE KEY IS NOT REGISTERED ERROR.</resultMsg></header></response>'"
      ]
     },
     "execution_count": 6,
     "metadata": {},
     "output_type": "execute_result"
    }
   ],
   "source": [
    "url = 'http://openapi.molit.go.kr:8081/OpenAPI_ToolInstallPackage/service/rest/RTMSOBJSvc/getRTMSDataSvcAptTrade'\n",
    "\n",
    "params ={\n",
    "    'serviceKey' : requests.utils.unquote(SERVICE_KEY), \n",
    "    # 법진동 코드\n",
    "    'LAWD_CD' : city_code, \n",
    "    'DEAL_YMD' : '201512',  \n",
    "\n",
    "}\n",
    "response = requests.get(url, params=params)\n",
    "response.text"
   ]
  },
  {
   "cell_type": "markdown",
   "id": "bc229cbf",
   "metadata": {},
   "source": [
    "# 국토교통부_아파트 전월세 자료\n",
    "\n",
    "https://www.data.go.kr/tcs/dss/selectApiDataDetailView.do?publicDataPk=15058017"
   ]
  },
  {
   "cell_type": "code",
   "execution_count": 7,
   "id": "4f071744",
   "metadata": {},
   "outputs": [
    {
     "data": {
      "text/plain": [
       "'<?xml version=\"1.0\" encoding=\"UTF-8\" standalone=\"yes\"?><response><header><resultCode>99</resultCode><resultMsg>SERVICE KEY IS NOT REGISTERED ERROR.</resultMsg></header></response>'"
      ]
     },
     "execution_count": 7,
     "metadata": {},
     "output_type": "execute_result"
    }
   ],
   "source": [
    "url = 'http://openapi.molit.go.kr:8081/OpenAPI_ToolInstallPackage/service/rest/RTMSOBJSvc/getRTMSDataSvcAptRent'\n",
    "\n",
    "params ={\n",
    "    'serviceKey' : requests.utils.unquote(SERVICE_KEY), \n",
    "    # 시군구 코드\n",
    "    'LAWD_CD' : city_code, \n",
    "    'DEAL_YMD' : '202012',  \n",
    "\n",
    "}\n",
    "response = requests.get(url, params=params)\n",
    "response.text"
   ]
  },
  {
   "cell_type": "code",
   "execution_count": null,
   "id": "8995dfb4",
   "metadata": {},
   "outputs": [],
   "source": []
  },
  {
   "cell_type": "code",
   "execution_count": null,
   "id": "c723fc2d",
   "metadata": {},
   "outputs": [],
   "source": []
  },
  {
   "cell_type": "code",
   "execution_count": null,
   "id": "6ce3b1b6",
   "metadata": {},
   "outputs": [],
   "source": []
  },
  {
   "cell_type": "markdown",
   "id": "7fab3dd3",
   "metadata": {},
   "source": [
    "# 국토교통부_아파트 분양권전매 신고 자료\n",
    "\n",
    "https://www.data.go.kr/data/15056782/openapi.do"
   ]
  },
  {
   "cell_type": "code",
   "execution_count": 8,
   "id": "f2f704a3",
   "metadata": {},
   "outputs": [
    {
     "data": {
      "text/plain": [
       "'<?xml version=\"1.0\" encoding=\"UTF-8\" standalone=\"yes\"?><response><header><resultCode>99</resultCode><resultMsg>SERVICE KEY IS NOT REGISTERED ERROR.</resultMsg></header></response>'"
      ]
     },
     "execution_count": 8,
     "metadata": {},
     "output_type": "execute_result"
    }
   ],
   "source": [
    "url = 'http://openapi.molit.go.kr/OpenAPI_ToolInstallPackage/service/rest/RTMSOBJSvc/getRTMSDataSvcSilvTrade'\n",
    "\n",
    "params ={\n",
    "    'serviceKey' : requests.utils.unquote(SERVICE_KEY), \n",
    "    # 시군구 코드\n",
    "    'LAWD_CD' : city_code, \n",
    "    'DEAL_YMD' : '202012',  \n",
    "\n",
    "}\n",
    "response = requests.get(url, params=params)\n",
    "response.text"
   ]
  },
  {
   "cell_type": "code",
   "execution_count": null,
   "id": "b4a349b3",
   "metadata": {},
   "outputs": [],
   "source": []
  },
  {
   "cell_type": "markdown",
   "id": "22ee67d5",
   "metadata": {},
   "source": [
    "# 국토교통부_오피스텔 매매 신고 조회 서비스\n",
    "\n",
    "https://www.data.go.kr/tcs/dss/selectApiDataDetailView.do?publicDataPk=15058452"
   ]
  },
  {
   "cell_type": "code",
   "execution_count": 9,
   "id": "e9dad57c",
   "metadata": {},
   "outputs": [
    {
     "data": {
      "text/plain": [
       "'<?xml version=\"1.0\" encoding=\"UTF-8\" standalone=\"yes\"?><response><header><resultCode>99</resultCode><resultMsg>SERVICE KEY IS NOT REGISTERED ERROR.</resultMsg></header></response>'"
      ]
     },
     "execution_count": 9,
     "metadata": {},
     "output_type": "execute_result"
    }
   ],
   "source": [
    "url = 'http://openapi.molit.go.kr/OpenAPI_ToolInstallPackage/service/rest/RTMSOBJSvc/getRTMSDataSvcOffiTrade'\n",
    "params ={\n",
    "    'serviceKey' : requests.utils.unquote(SERVICE_KEY), \n",
    "    # 시군구 코드\n",
    "    'LAWD_CD' : city_code, \n",
    "    'DEAL_YMD' : '202012',  \n",
    "\n",
    "}\n",
    "response = requests.get(url, params=params)\n",
    "response.text"
   ]
  },
  {
   "cell_type": "markdown",
   "id": "a6613348",
   "metadata": {},
   "source": [
    "# 국토교통부_오피스텔 전월세 신고 조회 서비스\n",
    "\n",
    "https://www.data.go.kr/tcs/dss/selectApiDataDetailView.do?publicDataPk=15059249"
   ]
  },
  {
   "cell_type": "code",
   "execution_count": 10,
   "id": "f4a424dc",
   "metadata": {},
   "outputs": [
    {
     "data": {
      "text/plain": [
       "'<?xml version=\"1.0\" encoding=\"UTF-8\" standalone=\"yes\"?><response><header><resultCode>99</resultCode><resultMsg>SERVICE KEY IS NOT REGISTERED ERROR.</resultMsg></header></response>'"
      ]
     },
     "execution_count": 10,
     "metadata": {},
     "output_type": "execute_result"
    }
   ],
   "source": [
    "url = 'http://openapi.molit.go.kr/OpenAPI_ToolInstallPackage/service/rest/RTMSOBJSvc/getRTMSDataSvcOffiRent'\n",
    "params ={\n",
    "    'serviceKey' : requests.utils.unquote(SERVICE_KEY), \n",
    "    # 시군구 코드\n",
    "    'LAWD_CD' : city_code, \n",
    "    'DEAL_YMD' : '202012',  \n",
    "\n",
    "}\n",
    "response = requests.get(url, params=params)\n",
    "response.text"
   ]
  },
  {
   "cell_type": "markdown",
   "id": "7f7832d0",
   "metadata": {},
   "source": [
    "# 국토교통부_연립다세대 매매 실거래자료\n",
    "\n",
    "https://www.data.go.kr/tcs/dss/selectApiDataDetailView.do?publicDataPk=15058038"
   ]
  },
  {
   "cell_type": "code",
   "execution_count": 20,
   "id": "36f85ec3",
   "metadata": {},
   "outputs": [
    {
     "name": "stdout",
     "output_type": "stream",
     "text": [
      "<?xml version=\"1.0\" encoding=\"UTF-8\" standalone=\"yes\"?><response><header><resultCode>99</resultCode><resultMsg>SERVICE KEY IS NOT REGISTERED ERROR.</resultMsg></header></response>\n"
     ]
    }
   ],
   "source": [
    "url = 'http://openapi.molit.go.kr:8081/OpenAPI_ToolInstallPackage/service/rest/RTMSOBJSvc/getRTMSDataSvcRHTrade'\n",
    "date_time = '202012'\n",
    "get_building_info(url, city_code, date_time)"
   ]
  },
  {
   "cell_type": "markdown",
   "id": "d0af8a74",
   "metadata": {},
   "source": [
    "# 국토교통부_연립다세대 전월세 자료\n",
    "\n",
    "https://www.data.go.kr/tcs/dss/selectApiDataDetailView.do?publicDataPk=15058016"
   ]
  },
  {
   "cell_type": "code",
   "execution_count": 21,
   "id": "6a4b6c4d",
   "metadata": {},
   "outputs": [
    {
     "name": "stdout",
     "output_type": "stream",
     "text": [
      "<?xml version=\"1.0\" encoding=\"UTF-8\" standalone=\"yes\"?><response><header><resultCode>99</resultCode><resultMsg>SERVICE KEY IS NOT REGISTERED ERROR.</resultMsg></header></response>\n"
     ]
    }
   ],
   "source": [
    "url = 'http://openapi.molit.go.kr:8081/OpenAPI_ToolInstallPackage/service/rest/RTMSOBJSvc/getRTMSDataSvcRHRent'\n",
    "date_time = '202012'\n",
    "get_building_info(url, city_code, date_time)"
   ]
  },
  {
   "cell_type": "markdown",
   "id": "2a4f4693",
   "metadata": {},
   "source": [
    "# 국토교통부_단독/다가구 매매 실거래 자료\n",
    "\n",
    "https://www.data.go.kr/tcs/dss/selectApiDataDetailView.do?publicDataPk=15058022m"
   ]
  },
  {
   "cell_type": "code",
   "execution_count": 23,
   "id": "ed8bad7f",
   "metadata": {},
   "outputs": [
    {
     "name": "stdout",
     "output_type": "stream",
     "text": [
      "<?xml version=\"1.0\" encoding=\"UTF-8\" standalone=\"yes\"?><response><header><resultCode>99</resultCode><resultMsg>SERVICE KEY IS NOT REGISTERED ERROR.</resultMsg></header></response>\n"
     ]
    }
   ],
   "source": [
    "url = 'http://openapi.molit.go.kr:8081/OpenAPI_ToolInstallPackage/service/rest/RTMSOBJSvc/getRTMSDataSvcSHTrade'\n",
    "date_time = '202012'\n",
    "get_building_info(url, city_code, date_time)"
   ]
  },
  {
   "cell_type": "markdown",
   "id": "f6616300",
   "metadata": {},
   "source": [
    "# 국토교통부_단독/다가구 전월세 자료\n",
    "\n",
    "https://www.data.go.kr/tcs/dss/selectApiDataDetailView.do?publicDataPk=15058352"
   ]
  },
  {
   "cell_type": "code",
   "execution_count": 25,
   "id": "9592950f",
   "metadata": {},
   "outputs": [
    {
     "name": "stdout",
     "output_type": "stream",
     "text": [
      "<?xml version=\"1.0\" encoding=\"UTF-8\" standalone=\"yes\"?><response><header><resultCode>99</resultCode><resultMsg>SERVICE KEY IS NOT REGISTERED ERROR.</resultMsg></header></response>\n"
     ]
    }
   ],
   "source": [
    "url = 'http://openapi.molit.go.kr:8081/OpenAPI_ToolInstallPackage/service/rest/RTMSOBJSvc/getRTMSDataSvcSHRent'\n",
    "date_time = '202012'\n",
    "get_building_info(url, city_code, date_time)"
   ]
  },
  {
   "cell_type": "markdown",
   "id": "63cd8f74",
   "metadata": {},
   "source": [
    "# 국토교통부_상업업무용 부동산 매매 신고 자료\n",
    "\n",
    "https://www.data.go.kr/tcs/dss/selectApiDataDetailView.do?publicDataPk=15057267"
   ]
  },
  {
   "cell_type": "code",
   "execution_count": 24,
   "id": "c86ca9d4",
   "metadata": {},
   "outputs": [
    {
     "name": "stdout",
     "output_type": "stream",
     "text": [
      "<?xml version=\"1.0\" encoding=\"UTF-8\" standalone=\"yes\"?><response><header><resultCode>99</resultCode><resultMsg>SERVICE KEY IS NOT REGISTERED ERROR.</resultMsg></header></response>\n"
     ]
    }
   ],
   "source": [
    "url = 'http://openapi.molit.go.kr/OpenAPI_ToolInstallPackage/service/rest/RTMSOBJSvc/getRTMSDataSvcNrgTrade'\n",
    "date_time = '202012'\n",
    "get_building_info(url, city_code, date_time)"
   ]
  },
  {
   "cell_type": "markdown",
   "id": "2be5271e",
   "metadata": {},
   "source": [
    "# 국토교통부_토지 매매 신고 조회 서비스\n",
    "\n",
    "https://www.data.go.kr/tcs/dss/selectApiDataDetailView.do?publicDataPk=15056649"
   ]
  },
  {
   "cell_type": "code",
   "execution_count": 26,
   "id": "dd770804",
   "metadata": {},
   "outputs": [
    {
     "name": "stdout",
     "output_type": "stream",
     "text": [
      "<?xml version=\"1.0\" encoding=\"UTF-8\" standalone=\"yes\"?><response><header><resultCode>99</resultCode><resultMsg>SERVICE KEY IS NOT REGISTERED ERROR.</resultMsg></header></response>\n"
     ]
    }
   ],
   "source": [
    "url = 'http://openapi.molit.go.kr/OpenAPI_ToolInstallPackage/service/rest/RTMSOBJSvc/getRTMSDataSvcLandTrade'\n",
    "date_time = '202012'\n",
    "get_building_info(url, city_code, date_time)"
   ]
  },
  {
   "cell_type": "code",
   "execution_count": null,
   "id": "f85e9962",
   "metadata": {},
   "outputs": [],
   "source": []
  },
  {
   "cell_type": "code",
   "execution_count": null,
   "id": "574404e8",
   "metadata": {},
   "outputs": [],
   "source": []
  },
  {
   "cell_type": "code",
   "execution_count": null,
   "id": "2c577034",
   "metadata": {},
   "outputs": [],
   "source": []
  },
  {
   "cell_type": "code",
   "execution_count": null,
   "id": "1bbfaa2f",
   "metadata": {},
   "outputs": [],
   "source": []
  },
  {
   "cell_type": "code",
   "execution_count": null,
   "id": "a96f8fd6",
   "metadata": {},
   "outputs": [],
   "source": []
  },
  {
   "cell_type": "code",
   "execution_count": null,
   "id": "f202add8",
   "metadata": {},
   "outputs": [],
   "source": []
  },
  {
   "cell_type": "code",
   "execution_count": null,
   "id": "2325e34d",
   "metadata": {},
   "outputs": [],
   "source": []
  },
  {
   "cell_type": "code",
   "execution_count": null,
   "id": "9cc78a6e",
   "metadata": {},
   "outputs": [],
   "source": []
  },
  {
   "cell_type": "code",
   "execution_count": null,
   "id": "b906e612",
   "metadata": {},
   "outputs": [],
   "source": []
  },
  {
   "cell_type": "code",
   "execution_count": null,
   "id": "bfa6a92e",
   "metadata": {},
   "outputs": [],
   "source": [
    "url = 'http://openapi.molit.go.kr:8081/OpenAPI_ToolInstallPackage/service/rest/RTMSOBJSvc/getRTMSDataSvcRHTrade'\n",
    "params ={\n",
    "    'serviceKey' : requests.utils.unquote(SERVICE_KEY), \n",
    "    # 법진동 코드\n",
    "    'LAWD_CD' : city_code, \n",
    "    'DEAL_YMD' : '202112',  \n",
    "    \"pageNo\": 1,\n",
    "    \"numOfRows\": 10,\n",
    "    \"type\" : \"json\"\n",
    "}\n",
    "\n",
    "response = requests.get(url, params=params)\n",
    "data = xmltodict.parse(response.text)\n",
    "json_data = json.loads(json.dumps(data['response']['body'], ensure_ascii=False))\n",
    "pd.DataFrame(json_data['items']['item'])\n"
   ]
  },
  {
   "cell_type": "code",
   "execution_count": 19,
   "id": "019015ca",
   "metadata": {},
   "outputs": [],
   "source": [
    "def get_building_info(url, city_code, date_time):\n",
    "    SERVICE_KEY = \"tBPuYEf3cadKmxZxuRXBoCZuj2RT2O4riAhrCDcjRn4Vxz98zmNi%2BAn0aB2QLehOtdCzhbN4nmFfy6XEAx2kBQ%3D%3D\"\n",
    "    params ={\n",
    "        'serviceKey' : requests.utils.unquote(SERVICE_KEY), \n",
    "        # 시군구 코드\n",
    "        'LAWD_CD' : city_code, \n",
    "        'DEAL_YMD' : date_time,  \n",
    "    }\n",
    "    response = requests.get(url, params=params)\n",
    "    print(response.text)"
   ]
  },
  {
   "cell_type": "code",
   "execution_count": null,
   "id": "cae4bcb4",
   "metadata": {},
   "outputs": [],
   "source": []
  }
 ],
 "metadata": {
  "kernelspec": {
   "display_name": "Django Shell-Plus",
   "language": "python",
   "name": "django_extensions"
  },
  "language_info": {
   "codemirror_mode": {
    "name": "ipython",
    "version": 3
   },
   "file_extension": ".py",
   "mimetype": "text/x-python",
   "name": "python",
   "nbconvert_exporter": "python",
   "pygments_lexer": "ipython3",
   "version": "3.9.4"
  }
 },
 "nbformat": 4,
 "nbformat_minor": 5
}
